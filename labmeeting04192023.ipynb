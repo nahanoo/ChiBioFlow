{
 "cells": [
  {
   "cell_type": "code",
   "execution_count": null,
   "id": "0298f988",
   "metadata": {},
   "outputs": [],
   "source": [
    "from chemostat_report import *\n",
    "from citrate import *\n",
    "from IPython.core.display import HTML\n",
    "table_css = 'table {align:left;display:block} '\n",
    "HTML('<style>{}</style>'.format(table_css))"
   ]
  },
  {
   "cell_type": "markdown",
   "id": "f547f2de",
   "metadata": {},
   "source": [
    "# Labmeeting 04.19.2023\n",
    "\n",
    "## Citric acid Chemostat experiments\n",
    "\n",
    "### Mono-cutlure experiments\n",
    "\n",
    "Mono culture experiments with 10 mM citric acid."
   ]
  },
  {
   "cell_type": "code",
   "execution_count": null,
   "id": "50d4fc6b",
   "metadata": {},
   "outputs": [],
   "source": [
    "ct_oa()\n",
    "#D: Dilution rate [1/h]"
   ]
  },
  {
   "cell_type": "markdown",
   "id": "00c6472c",
   "metadata": {},
   "source": [
    "### Steady state measurements\n",
    "\n",
    "$\\mu_{max} = 0.1$   \n",
    "  \n",
    "$K_C = S^*(\\mu_{max}-D)/D$   \n",
    "$K_C$: Monod constant, $D$: Dilution rate [1/h]\n",
    "$S^*$: Citric acid conc. steady state [μM]\n",
    "  \n",
    "$ Y_C = \\frac{N^*}{S_0 - S^*}$  \n",
    "\n",
    "$Y_C$: Yield\n",
    "$N$: Population sice [CFUs/mL]\n",
    "$S_0$: Citric acid concentration citric acid feed [μM]\n",
    "    \n",
    "| Species         | CFUs/mL | Citric acid [μM] | Citric acid feed [μM] | $K_C$ [μM] | Y [Cells/mL/μM] |\n",
    "|-----------------|---------|------------------|-----------------------|-------|-----------------|\n",
    "| C. testosteroni | 2.7E9   | 6874             | 9844                  | 6874  | 909280          |\n",
    "| O. anthropi     | 1.3E10  | 7027             | 10112                 | 7027  | 4321535         |"
   ]
  },
  {
   "cell_type": "markdown",
   "id": "6c5aa252",
   "metadata": {},
   "source": [
    "### Community experiments"
   ]
  },
  {
   "cell_type": "code",
   "execution_count": null,
   "id": "1d34ffbd",
   "metadata": {},
   "outputs": [],
   "source": [
    "od_citric_acid_comm()"
   ]
  },
  {
   "cell_type": "markdown",
   "id": "fecbf72f",
   "metadata": {},
   "source": [
    "**Species abundance**\n",
    "\n",
    "**D=0.1**\n",
    "\n",
    "| Species         | CFUs/mL | Relative abundance |\n",
    "|-----------------|---------|--------------------|\n",
    "| C. testosteroni | 2.5E9   | 0.45               |\n",
    "| O. anthropi     | 3.1E9   | 0.55               |\n",
    "\n",
    "**D=0.15**\n",
    "\n",
    "| Species         | CFUs/mL | Relative abundance |\n",
    "|-----------------|---------|--------------------|\n",
    "| C. testosteroni | 3E9     | 0.75               |\n",
    "| O. anthropi     | 1E9     | 0.25               |"
   ]
  },
  {
   "cell_type": "markdown",
   "id": "d5468ae9",
   "metadata": {},
   "source": [
    "## Modelling\n",
    "\n",
    "$J_{C,Ct}^{upt} = \\mu_{Ct}\\frac{C}{K_{C,Ct}+C}$  \n",
    "$J_{C,Oa}^{upt} = \\mu_{Oa}\\frac{C}{K_{C,Oa}+C}$  \n",
    "$J_{T,Oa}^{upt} = \\mu_{Oa}\\frac{T}{K_{T,Oa}+T}$  \n",
    "C: Citric acid concentration [μM]  \n",
    "T: Thiamine concentration [μM]\n",
    "<br/><br/>\n",
    "$\\frac{dC}{dt} = D(M_C-C)-J_{C,Ct}^{upt}\\frac{Ct}{Y_{C,Ct}}-J_{C,Oa}^{upt}\\frac{Oa}{Y_{C,Oa}}$\n",
    "<br/><br/>\n",
    "$\\frac{dT}{dt} = \\alpha J_{C,Ct}^{upt}\\frac{Ct}{Y_{C,Ct}} - J_{T,Oa}^{upt}\\frac{Oa}{K_{T,Oa}}-DT$\n",
    "<br/><br/>\n",
    "$\\frac{dCt}{dt} = J_{C,Ct}^{upt}Ct - DCt$\n",
    "\n",
    "$\\frac{dOa}{dt} = min(J_{C,Oa}^{upt},J_{T,Oa}^{upt})Oa - DOa$\n",
    "\n",
    "### Parmaters\n",
    "\n",
    "$K_{C,Ct} = 6874$ [μM] Measured  \n",
    "$K_{C,Oa} = 7027$ [μM] Measured  \n",
    "$K_{T,Oa} = 0.015$ [μM] Based on literature   \n",
    "$r_{C,Ct} = 0.3$ [1/h] Estimated  \n",
    "$r_{C,Oa} = 0.32$ [1/h] Estimated  \n",
    "$Y_{C,Ct} = 909280$ [Cells/mL/μM] Measured  \n",
    "$Y_{C,Oa} = 4321535$ [Cells/mL/μM] Measured  \n",
    "$Y_{T,Oa} = 1E15$ [Cells/mL/μM] Based on literature  \n",
    "$\\alpha = 5E-6$ Estimated \n",
    "\n",
    "\n"
   ]
  },
  {
   "cell_type": "markdown",
   "id": "3860edad",
   "metadata": {},
   "source": [
    "### Thiamine cross-feeding\n",
    "\n",
    "$\\frac{dT}{dt} = \\alpha J_{C,Ct}^{upt}\\frac{Ct}{Y_{C,Ct}} - J_{T,Oa}^{upt}\\frac{Oa}{K_{T,Oa}}-DT$"
   ]
  },
  {
   "cell_type": "code",
   "execution_count": null,
   "id": "8364c1ca",
   "metadata": {},
   "outputs": [],
   "source": [
    "# D=0.1\n",
    "fig,fig_T,fig_C = thiamine_cross_feeding(0.1,range(400))"
   ]
  },
  {
   "cell_type": "code",
   "execution_count": null,
   "id": "1f3478fa",
   "metadata": {},
   "outputs": [],
   "source": [
    "#fig_T.show()"
   ]
  },
  {
   "cell_type": "code",
   "execution_count": null,
   "id": "65e31477",
   "metadata": {},
   "outputs": [],
   "source": [
    "#D=0.15\n",
    "fig,fig_T,fig_C = thiamine_cross_feeding(0.14,range(400))"
   ]
  },
  {
   "cell_type": "markdown",
   "id": "d0cd6aa0",
   "metadata": {},
   "source": [
    "### Constant Thiamine\n",
    "\n",
    "$\\frac{dT}{dt} = D(M_T - T) - J_{T,Oa}^{upt}\\frac{Oa}{K_{T,Oa}}$"
   ]
  },
  {
   "cell_type": "code",
   "execution_count": null,
   "id": "ced3f77a",
   "metadata": {},
   "outputs": [],
   "source": [
    "constant_thiamine()"
   ]
  }
 ],
 "metadata": {
  "kernelspec": {
   "display_name": "Python 3 (ipykernel)",
   "language": "python",
   "name": "python3"
  },
  "language_info": {
   "codemirror_mode": {
    "name": "ipython",
    "version": 3
   },
   "file_extension": ".py",
   "mimetype": "text/x-python",
   "name": "python",
   "nbconvert_exporter": "python",
   "pygments_lexer": "ipython3",
   "version": "3.9.7"
  }
 },
 "nbformat": 4,
 "nbformat_minor": 5
}
