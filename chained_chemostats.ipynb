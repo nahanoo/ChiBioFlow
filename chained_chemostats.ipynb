{
 "cells": [
  {
   "cell_type": "markdown",
   "id": "f5db928d",
   "metadata": {},
   "source": [
    "# Chained chemstats - an overview"
   ]
  },
  {
   "cell_type": "markdown",
   "id": "461de1ef",
   "metadata": {},
   "source": [
    "## Model and equations\n",
    "\n",
    "As a model we use the logistic model also know as [Verhulst model](https://en.wikipedia.org/wiki/Logistic_function#In_ecology:_modeling_population_growth).\n",
    "\n",
    "$\\frac{dN}{dt} = rN(1-\\frac{N}{K})$\n",
    "\n",
    "N: population size  \n",
    "r: growth rate  \n",
    "K: maximum population size\n",
    "\n",
    "### Equations for chemostats calculations\n",
    "\n",
    "$D = \\frac{Q}{V}$  \n",
    "\n",
    "D: Dilution rate  \n",
    "Q: Volumentric flow rate  \n",
    "V: Culture volume (20 mL in our case)\n",
    "\n",
    "\n",
    "$R = \\frac{n_{transfers}}{h}$  \n",
    "\n",
    "R: transfer rate (How many times a culture is diluted per hour)\n",
    "\n",
    "$dXdT = r X -DX$  \n",
    "\n",
    "X: cell mass  \n",
    "This formula tells us that in steady state the dilution rate is equal to the growth rate."
   ]
  },
  {
   "cell_type": "markdown",
   "id": "8f664552",
   "metadata": {},
   "source": [
    "## Fitting"
   ]
  },
  {
   "cell_type": "code",
   "execution_count": null,
   "id": "477a4174",
   "metadata": {},
   "outputs": [],
   "source": [
    "from plotting import plot_od\n",
    "from model_class import Chain\n",
    "\n",
    "# Plotting OD measurements\n",
    "chain = Chain([28.0,33.0,38.0,43.0]) # Initializing chain for modelling\n",
    "chain.transfer_rate = 0 # Setting trasnfer rate to zero\n",
    "df,fig = plot_od('overnight_gradient_06_16',model=True,chain=chain)\n",
    "fig.show()"
   ]
  },
  {
   "cell_type": "markdown",
   "id": "ec75e34e",
   "metadata": {},
   "source": [
    "The same culture was grown in isolated environments over night. I have the issue that at 28 and 33 °C the community almost halfs it's growth rate after OD 0.3. To compensate for that, I had to choose a lower K value than actually observed. However, we will see later that OD 0.7 is the highest we observe in our experiment and below that the fit is accurate.  \n",
    "Below I print the fitting parameters for the different temperatures."
   ]
  },
  {
   "cell_type": "code",
   "execution_count": null,
   "id": "4e32ac9f",
   "metadata": {},
   "outputs": [],
   "source": [
    "for c in chain.chain:\n",
    "    print(c.name,c.r,c.K)"
   ]
  },
  {
   "cell_type": "markdown",
   "id": "50655767",
   "metadata": {},
   "source": [
    "## Experiments\n",
    "\n",
    "Time to look at the first experiment.  \n",
    "We start with the control experiment where all chemostats are set to 28 °C and the transfer rate is 2 (one transfer every half an hour)."
   ]
  },
  {
   "cell_type": "code",
   "execution_count": null,
   "id": "d07da462",
   "metadata": {},
   "outputs": [],
   "source": [
    "chain = Chain([28.0,28.0,28.0,28.0]) # Initializing chain for modelling\n",
    "chain.chain[0].N = 0.08 # Setting OD of first reactor\n",
    "for c in chain.chain[1:]:\n",
    "    c.N = 0 # Setting OD of downstream reactors to 0\n",
    "    \n",
    "chain.transfer_rate = 2 # Two transfers per hour\n",
    "chain.dilution_rate = 0.31395 # This is the dilution rate I used for all experiments\n",
    "df,fig = plot_od('c1',model=True,chain=chain)\n",
    "fig.show()"
   ]
  },
  {
   "cell_type": "code",
   "execution_count": null,
   "id": "27ee0f73",
   "metadata": {},
   "outputs": [],
   "source": [
    "chain = Chain([28.0,33.0,38.0,43.0]) # Initializing chain for modelling\n",
    "chain.chain[0].N = 0.08 # Setting OD of first reactor\n",
    "for c in chain.chain[1:]:\n",
    "    c.N = 0 # Setting OD of downstream reactors to 0\n",
    "    \n",
    "chain.transfer_rate = 2 # Two transfers per hour\n",
    "chain.dilution_rate = 0.31395 # This is the dilution rate I used for all experiments\n",
    "df,fig = plot_od('c2',model=True,chain=chain)\n",
    "fig.show()"
   ]
  },
  {
   "cell_type": "code",
   "execution_count": null,
   "id": "c8216f95",
   "metadata": {},
   "outputs": [],
   "source": [
    "chain = Chain([28.0,43.0,38.0,33.0]) # Initializing chain for modelling\n",
    "chain.chain[0].N = 0.08 # Setting OD of first reactor\n",
    "for c in chain.chain[1:]:\n",
    "    c.N = 0 # Setting OD of downstream reactors to 0\n",
    "    \n",
    "chain.transfer_rate = 2 # Two transfers per hour\n",
    "chain.dilution_rate = 0.31395 # This is the dilution rate I used for all experiments\n",
    "df,fig = plot_od('c3',model=True,chain=chain)\n",
    "fig.show()"
   ]
  },
  {
   "cell_type": "code",
   "execution_count": null,
   "id": "3a25b054",
   "metadata": {},
   "outputs": [],
   "source": [
    "chain = Chain([28.0,38.0,43.0,33.0]) # Initializing chain for modelling\n",
    "chain.chain[0].N = 0.08 # Setting OD of first reactor\n",
    "for c in chain.chain[1:]:\n",
    "    c.N = 0 # Setting OD of downstream reactors to 0\n",
    "    \n",
    "chain.transfer_rate = 2 # Two transfers per hour\n",
    "chain.dilution_rate = 0.31395 # This is the dilution rate I used for all experiments\n",
    "df,fig = plot_od('c5',model=True,chain=chain)\n",
    "fig.show()"
   ]
  },
  {
   "cell_type": "code",
   "execution_count": null,
   "id": "b46a9507",
   "metadata": {},
   "outputs": [],
   "source": [
    "chain = Chain([28.0,38.0,43.0,33.0]) # Initializing chain for modelling\n",
    "chain.chain[0].N = 0.08 # Setting OD of first reactor\n",
    "for c in chain.chain[1:]:\n",
    "    c.N = 0 # Setting OD of downstream reactors to 0\n",
    "    \n",
    "chain.transfer_rate = 18 # Two transfers per hour\n",
    "chain.dilution_rate = 0.31395 # This is the dilution rate I used for all experiments\n",
    "df,fig = plot_od('c6',model=True,chain=chain)\n",
    "fig.show()"
   ]
  }
 ],
 "metadata": {
  "kernelspec": {
   "display_name": "Python 3 (ipykernel)",
   "language": "python",
   "name": "python3"
  },
  "language_info": {
   "codemirror_mode": {
    "name": "ipython",
    "version": 3
   },
   "file_extension": ".py",
   "mimetype": "text/x-python",
   "name": "python",
   "nbconvert_exporter": "python",
   "pygments_lexer": "ipython3",
   "version": "3.9.7"
  }
 },
 "nbformat": 4,
 "nbformat_minor": 5
}
