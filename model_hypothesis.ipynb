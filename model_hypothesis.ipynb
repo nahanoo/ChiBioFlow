{
 "cells": [
  {
   "cell_type": "markdown",
   "id": "764a5640",
   "metadata": {},
   "source": [
    "# Modelling\n",
    "\n",
    "## Model\n",
    "\n",
    "\n",
    "$\\frac{dN}{dt} = rN(1-\\frac{N}{K})$ (1)\n",
    "\n",
    "N: population size  \n",
    "r: growth rate  \n",
    "K: maximum population size\n",
    "\n",
    "## Fitting\n",
    "\n",
    "The fitting is a little bit off which is mainly due to the lag phase.\n",
    "I can get better fits incorporating lag, however, given that the chemostat experiments are continous, adding lag doesn't make sense. "
   ]
  },
  {
   "cell_type": "code",
   "execution_count": null,
   "id": "444fa1ff",
   "metadata": {
    "scrolled": true
   },
   "outputs": [],
   "source": [
    "from model_community import Chain\n",
    "from plotting import plot_od\n",
    "from chibio_parser import chibio_parser\n",
    "\n",
    "chain = Chain(1)\n",
    "chain.chain[0].N = 0.05\n",
    "chain.transfer_rate = 0\n",
    "df, order = chibio_parser('overnight_gradient_06_16')\n",
    "df = df[df['reactor'] == order[0]]\n",
    "df, fig = plot_od('c1', df=df, order =['M0'], multi=True, model=True, chain=chain)\n",
    "fig.show()"
   ]
  },
  {
   "cell_type": "markdown",
   "id": "831004c5",
   "metadata": {},
   "source": [
    "## Gradients\n",
    "\n",
    "### Dilution factor\n",
    "\n",
    "$dilution\\_factor = \\frac{OD_{before\\_dilution}}{OD_{after\\_dilution}}$\n",
    "\n",
    "The dilution factor decreases along the chain when steady state is reached.\n",
    "To get a better feeling for this, let's look at the model first."
   ]
  }
 ],
 "metadata": {
  "kernelspec": {
   "display_name": "Python 3 (ipykernel)",
   "language": "python",
   "name": "python3"
  },
  "language_info": {
   "codemirror_mode": {
    "name": "ipython",
    "version": 3
   },
   "file_extension": ".py",
   "mimetype": "text/x-python",
   "name": "python",
   "nbconvert_exporter": "python",
   "pygments_lexer": "ipython3",
   "version": "3.9.7"
  }
 },
 "nbformat": 4,
 "nbformat_minor": 5
}
