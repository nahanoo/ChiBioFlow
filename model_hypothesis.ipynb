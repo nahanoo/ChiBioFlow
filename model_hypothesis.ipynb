{
 "cells": [
  {
   "cell_type": "markdown",
   "id": "58c3680d",
   "metadata": {},
   "source": [
    "# Modelling\n",
    "\n",
    "Simple exponential model: \n",
    "$N(t) = N_0 * e^{kt}$\n",
    "\n",
    "$N$ : Population size\n",
    "$k$ : Growth constant\n",
    "$t$ : Time"
   ]
  },
  {
   "cell_type": "code",
   "execution_count": null,
   "id": "a4c97379",
   "metadata": {},
   "outputs": [],
   "source": [
    "from community_caller import *\n",
    "from os.path import join\n",
    "from os import symlink,remove\n",
    "from sympy import preview\n",
    "figures = join('/','home','eric','notes','talks','friday_seminar_2022_12_02','figures')\n",
    "equations = join('/','home','eric','notes','talks','friday_seminar_2022_12_02','equations')\n",
    "\n",
    "def write_f(fig,f):\n",
    "    fig.write_image(join(figures,f),scale=8)\n",
    "    try:\n",
    "        symlink(join(figures,f),join('figures',f))\n",
    "    except FileExistsError:\n",
    "        pass\n",
    "\n",
    "def write_e(expr,f):\n",
    "    preview(expr,viewer='file',filename=join(equations,f),dvioptions=['-D','1200','-bg','Transparent'])\n",
    "    try:\n",
    "        symlink(join(equations,f),join('equations',f))\n",
    "    except FileExistsError:\n",
    "        pass"
   ]
  },
  {
   "cell_type": "code",
   "execution_count": null,
   "id": "abe37af6",
   "metadata": {
    "scrolled": true
   },
   "outputs": [],
   "source": [
    "fig = plot_logistic_growth(30,0.3,1.5)\n",
    "write_f(fig,'logistic_growth.png')\n",
    "expr = '$\\\\frac{dN}{dt} = rN(1-\\\\frac{N}{K})$'\n",
    "write_e(expr,'logistic_model.png')"
   ]
  },
  {
   "cell_type": "markdown",
   "id": "96cfd387",
   "metadata": {},
   "source": [
    "![](figures/logistic_growth.png)\n",
    "![](equations/logistic_model.png)"
   ]
  },
  {
   "cell_type": "code",
   "execution_count": null,
   "id": "62d93b84",
   "metadata": {},
   "outputs": [],
   "source": [
    "fig = plot_chain(4,0.2,1)\n",
    "write_f(fig,'chemostat_increase.png')\n",
    "fig = plot_chain(4,0.32899,1)\n",
    "fig = update_labels(fig, 'Time in hours', 'OD', \"$D = \\mu$\")\n",
    "write_f(fig,'chemostat_decrease.png')\n",
    "expr = '$\\\\mu = \\\\frac{N_1 - N_0}{N_0\\\\Delta t}$'\n",
    "write_e(expr,'growth_rate.png')\n",
    "expr = '$D = \\\\frac{N_1 - N_2}{N_2} = \\\\frac{N_1}{N_2} - 1 = F_{dilution} - 1$'\n",
    "write_e(expr,'dilution_rate.png')\n",
    "expr = '$N_2 = N_0$'\n",
    "write_e(expr,'n2_n0.png')\n",
    "expr = '$D = \\\\frac{N_1 - N_0}{N_0} = \\\\mu$'\n",
    "write_e(expr,'d_equals_mu.png')\n",
    "expr = '$\\\\frac{dX}{dt} = \\\\mu X - DX$'\n",
    "write_e(expr,'steady_state.png')"
   ]
  },
  {
   "cell_type": "markdown",
   "id": "b0b599ea",
   "metadata": {},
   "source": [
    "![](figures/chemostat_increase.png)\n",
    "![](figures/chemostat_decrease.png)\n",
    "![](equations/growth_rate.png)"
   ]
  },
  {
   "cell_type": "code",
   "execution_count": null,
   "id": "561199ac",
   "metadata": {
    "scrolled": true
   },
   "outputs": [],
   "source": [
    "fig = plot_chain(42,0.32899,2)\n",
    "fig = update_labels(fig, 'Time in hours', 'OD', \"$D = \\mu$\",size=[350,700])\n",
    "write_f(fig,'two_chemostats.png')\n",
    "fig = plot_lim_growth_rates(60)\n",
    "write_f(fig,'growth_rates.png')\n",
    "fig = plot_dilution(42,2)\n",
    "fig = update_labels(fig,'Time in hours','Dilution factor','Dilution factors',size=[350,700])\n",
    "write_f(fig,'dilution_factor.png')\n",
    "expr = 'as'"
   ]
  },
  {
   "cell_type": "markdown",
   "id": "34b2b129",
   "metadata": {},
   "source": [
    "$D_{c1} = 0.253$\n",
    "![](figures/two_chemostats.png)\n",
    "![](figures/growth_rates.png)\n",
    "![](figures/dilution_factor.png)"
   ]
  },
  {
   "cell_type": "code",
   "execution_count": null,
   "id": "a890057c",
   "metadata": {},
   "outputs": [],
   "source": [
    "import plotly.graph_objects as go\n",
    "fig = plot_capacity(40,4)\n",
    "write_f(fig,'carrying_capacity.png')"
   ]
  },
  {
   "cell_type": "markdown",
   "id": "0c9167da",
   "metadata": {},
   "source": [
    "![](figures/carrying_capacity.png)"
   ]
  }
 ],
 "metadata": {
  "kernelspec": {
   "display_name": "Python 3 (ipykernel)",
   "language": "python",
   "name": "python3"
  },
  "language_info": {
   "codemirror_mode": {
    "name": "ipython",
    "version": 3
   },
   "file_extension": ".py",
   "mimetype": "text/x-python",
   "name": "python",
   "nbconvert_exporter": "python",
   "pygments_lexer": "ipython3",
   "version": "3.9.7"
  }
 },
 "nbformat": 4,
 "nbformat_minor": 5
}
