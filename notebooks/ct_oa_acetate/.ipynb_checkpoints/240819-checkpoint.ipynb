{
 "cells": [
  {
   "cell_type": "markdown",
   "id": "31233c5c-6590-4fe4-837e-c95e5f220939",
   "metadata": {},
   "source": [
    "## Ct Oa 7.5 mM Acetate (15 mM carbon) with 0.01 mM Thiamine"
   ]
  },
  {
   "cell_type": "markdown",
   "id": "443f29db-f5ad-4dd1-819e-1b592e6892d5",
   "metadata": {},
   "source": [
    "### Batch culture experiments"
   ]
  },
  {
   "cell_type": "markdown",
   "id": "f917e638-ce9e-4bb9-b2fe-a4401ff2eff7",
   "metadata": {},
   "source": [
    "#### Ct"
   ]
  },
  {
   "cell_type": "code",
   "execution_count": 2,
   "id": "bf2bdc3c-987b-4ada-8a03-59a1fe4f55ba",
   "metadata": {},
   "outputs": [
    {
     "ename": "SyntaxError",
     "evalue": "invalid syntax (430458149.py, line 1)",
     "output_type": "error",
     "traceback": [
      "\u001b[0;36m  Cell \u001b[0;32mIn[2], line 1\u001b[0;36m\u001b[0m\n\u001b[0;31m    from 240819 import *\u001b[0m\n\u001b[0m         ^\u001b[0m\n\u001b[0;31mSyntaxError\u001b[0m\u001b[0;31m:\u001b[0m invalid syntax\n"
     ]
    }
   ],
   "source": [
    "from 240819 import *"
   ]
  },
  {
   "cell_type": "code",
   "execution_count": 1,
   "id": "10140a43-4f51-4003-93ee-06ed81a146df",
   "metadata": {},
   "outputs": [
    {
     "ename": "NameError",
     "evalue": "name 'fig1' is not defined",
     "output_type": "error",
     "traceback": [
      "\u001b[0;31m---------------------------------------------------------------------------\u001b[0m",
      "\u001b[0;31mNameError\u001b[0m                                 Traceback (most recent call last)",
      "Cell \u001b[0;32mIn[1], line 1\u001b[0m\n\u001b[0;32m----> 1\u001b[0m \u001b[43mfig1\u001b[49m()\n",
      "\u001b[0;31mNameError\u001b[0m: name 'fig1' is not defined"
     ]
    }
   ],
   "source": [
    "fig1()"
   ]
  }
 ],
 "metadata": {
  "kernelspec": {
   "display_name": "Python 3 (ipykernel)",
   "language": "python",
   "name": "python3"
  },
  "language_info": {
   "codemirror_mode": {
    "name": "ipython",
    "version": 3
   },
   "file_extension": ".py",
   "mimetype": "text/x-python",
   "name": "python",
   "nbconvert_exporter": "python",
   "pygments_lexer": "ipython3",
   "version": "3.12.3"
  }
 },
 "nbformat": 4,
 "nbformat_minor": 5
}
