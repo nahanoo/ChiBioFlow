{
 "cells": [
  {
   "cell_type": "markdown",
   "id": "f5db928d",
   "metadata": {},
   "source": [
    "#### Progress report"
   ]
  },
  {
   "cell_type": "markdown",
   "id": "2f1b8720",
   "metadata": {},
   "source": [
    "## Cell densities in chained chemostat experiments"
   ]
  },
  {
   "cell_type": "markdown",
   "id": "461de1ef",
   "metadata": {},
   "source": [
    "### Population model\n",
    "\n",
    "As a population model we use the logistic model also know as [Verhulst model](https://en.wikipedia.org/wiki/Logistic_function#In_ecology:_modeling_population_growth).\n",
    "\n",
    "$\\frac{dN}{dt} = rN(1-\\frac{N}{K})$ (1)\n",
    "\n",
    "N: population size  \n",
    "r: growth rate  \n",
    "K: maximum population size\n",
    "\n",
    "$(1-\\frac{N}{K})$ limits the population size. If $N=K$, $(1-\\frac{N}{K}) = 0$."
   ]
  },
  {
   "cell_type": "markdown",
   "id": "400717ad",
   "metadata": {},
   "source": [
    "### Modelling dilution experiments\n",
    "\n",
    "For modelling dilution experiments we need two more terms. Dilution rate $D$ and transfer rate $R$.\n",
    "\n",
    "$D = \\frac{Q}{V}$  \n",
    "\n",
    "Q: Volumentric flow rate  \n",
    "V: Culture volume (20 mL in our case).\n",
    "\n",
    "$R = \\frac{n_{transfers}}{h}$ \n",
    "\n",
    "Using $R$ we can calculate the volume $V_{trans}$.\n",
    "\n",
    "$V_{trans} = \\frac{DV}{R}$\n",
    "\n",
    "With those equations we can calculate $N$ after a dilution.\n",
    "\n",
    "$N = \\frac{N_{in}V_{trans} + NV}{V_{trans} + V}$ (2)\n",
    "\n",
    "$N_{in}$: $N$ of incoming liquid\n",
    "\n",
    "For simulating a dilution experiment, we calculate $N$ for the time period up to a dilution using equation (1). Equation (2) is used for calculating $N$ after diluting."
   ]
  },
  {
   "cell_type": "markdown",
   "id": "070d2e37",
   "metadata": {},
   "source": [
    "### Fitting\n",
    "\n",
    "Fitting the logistic model defined in equation (1) was done using [curveball](https://curveball.yoavram.com/) and adjusted manually.  \n",
    "If we look at the fits below, we can see that it works reasonable well. However, there are some issues. The growth rate of the community gets smaller after $OD=0.3$ when grown at 28.0 and 33.0 °C. I compensate this by lowering $K$. This should be fine because only $N > 0.8$ is affected by this which is out of range for our experiments."
   ]
  },
  {
   "cell_type": "code",
   "execution_count": null,
   "id": "73acc3c1",
   "metadata": {},
   "outputs": [],
   "source": [
    "from plotting import plot_od_temp\n",
    "from model_temperature import Chain\n",
    "\n",
    "chain = Chain([28.0,33.0,38.0,43.0]) # Initializing chain\n",
    "chain.transfer_rate = 0 # Setting trasnfer rate to zero for isolated environemnts\n",
    "df,fig = plot_od_temp('overnight_gradient_06_16',model=True,chain=chain)\n",
    "fig.show()\n",
    "# Printing fitting paramters\n",
    "for c in chain.chain:\n",
    "    print('Temperature:',c.name,'K:',c.K,'r:',c.r)"
   ]
  },
  {
   "cell_type": "markdown",
   "id": "fd88df08",
   "metadata": {},
   "source": [
    "The change of cell mass $\\frac{dX}{dt}$ is defined as follows:\n",
    "\n",
    "$\\frac{dX}{dt} = r X -DX$\n",
    "\n",
    "In steady-state $\\frac{dX}{dt} = 0$ and therefore, $D=r$.\n",
    "For our experiments and modelling we use $D=0.31395$ and $r=0.32$. This tells us that we are not quite at steady-state but pretty close."
   ]
  },
  {
   "cell_type": "markdown",
   "id": "6fa5c171",
   "metadata": {},
   "source": [
    "### Control experiment\n",
    "\n",
    "First let's look at the control experiment with no temperature gradient and $R=2$. It's nice to see that $D$ used in the experiments works well for our simulations too.  \n",
    "We can see that our model is close to the observations for reactor M1. However, for further downstream reactors the model predicts higher cell densities than observed."
   ]
  },
  {
   "cell_type": "code",
   "execution_count": null,
   "id": "d07da462",
   "metadata": {},
   "outputs": [],
   "source": [
    "chain = Chain([28.0,28.0,28.0,28.0]) # Initializing chain for modelling\n",
    "chain.chain[0].N = 0.07 # Setting OD of first reactor\n",
    "for c in chain.chain[1:]:\n",
    "    c.N = 0 # Setting OD of downstream reactors to 0\n",
    "chain.transfer_rate = 2\n",
    "chain.chain[0].K = 1.1\n",
    "df,fig = plot_od_temp('c1',model=True,chain=chain)\n",
    "fig.show()"
   ]
  },
  {
   "cell_type": "markdown",
   "id": "7db49c2c",
   "metadata": {},
   "source": [
    "In contrary to the setup used for fitting, this chain is not calibrated well for high ODs. If we check the total CFUs we see that the CFUs match the model predictions actually pretty well. I can recalibrate this chain to fix this issue."
   ]
  },
  {
   "cell_type": "code",
   "execution_count": null,
   "id": "1895233c",
   "metadata": {
    "scrolled": true
   },
   "outputs": [],
   "source": [
    "from plotting import plot_total\n",
    "df,fig = plot_total('c1')\n",
    "fig.show()"
   ]
  },
  {
   "cell_type": "markdown",
   "id": "a48d266b",
   "metadata": {},
   "source": [
    "### Gradient 28.0, 33.0, 38.0, 43.0 °C\n",
    "\n",
    "The following gradient already shows the first limitations of our model and parameters. Apparently $K$ changes when the environment is diluted with cells and media.  \n",
    "In isolated environments we determined $K=0.26$ for 38.0 °C. However, $N_{in_{M1}} = 0.3$. Our model predicts that the population will go down to $N=K=0.26$ which is not the case for our experimental data. The same applies for the reactor M2 at 43°C. \n",
    "For this reactor it's also interesting that we can observe growth in the experimental data which is against our assumption made from the isolated environment at the same temperature."
   ]
  },
  {
   "cell_type": "code",
   "execution_count": null,
   "id": "27ee0f73",
   "metadata": {},
   "outputs": [],
   "source": [
    "chain = Chain([28.0,33.0,38.0,43.0]) # Initializing chain for modelling\n",
    "chain.chain[0].N = 0.1 # Setting OD of first reactor\n",
    "for c in chain.chain[1:]:\n",
    "    c.N = 0 # Setting OD of downstream reactors to 0\n",
    "chain.transfer_rate = 2\n",
    "chain.chain[2].K = 2\n",
    "df,fig = plot_od_temp('c2',model=True,chain=chain)\n",
    "fig.show()"
   ]
  },
  {
   "cell_type": "markdown",
   "id": "cdd18307",
   "metadata": {},
   "source": [
    "### Gradient 28.0, 43.0, 38.0, 33.0 °C\n",
    "\n",
    "For this gradient our model works pretty well which is probably because $N_{in}$ is always lower than $K$.\n",
    "Compared to the previous gradient, we observe no growth at 43 °C."
   ]
  },
  {
   "cell_type": "code",
   "execution_count": null,
   "id": "c8216f95",
   "metadata": {},
   "outputs": [],
   "source": [
    "chain = Chain([28.0,43.0,38.0,33.0]) # Initializing chain for modelling\n",
    "chain.chain[0].N = 0.08 # Setting OD of first reactor\n",
    "for c in chain.chain[1:]:\n",
    "    c.N = 0 # Setting OD of downstream reactors to 0\n",
    "chain.transfer_rate = 4\n",
    "df,fig = plot_od_temp('c3',model=True,chain=chain)\n",
    "fig.show()"
   ]
  },
  {
   "cell_type": "markdown",
   "id": "165f66b1",
   "metadata": {},
   "source": [
    "### Gradient 28.0, 38.0, 43.0, 33.0 °C\n",
    "\n",
    "Except for M4 where $N_{in} > K$ our model works pretty well. At 43 °C it looks like the population is able to grow initially but dies again."
   ]
  },
  {
   "cell_type": "code",
   "execution_count": null,
   "id": "3a25b054",
   "metadata": {},
   "outputs": [],
   "source": [
    "chain = Chain([28.0,38.0,43.0,33.0]) # Initializing chain for modelling\n",
    "chain.chain[0].N = 0.08 # Setting OD of first reactor\n",
    "for c in chain.chain[1:]:\n",
    "    c.N = 0 # Setting OD of downstream reactors to 0\n",
    "#chain.chain[2].K += 0.17\n",
    "chain.transfer_rate = 2 #  transfers per hour\n",
    "df,fig = plot_od_temp('c5',model=True,chain=chain)\n",
    "fig.show()"
   ]
  },
  {
   "cell_type": "markdown",
   "id": "8bb13961",
   "metadata": {},
   "source": [
    "### Gradient 28.0, 38.0, 43.0, 33.0 °C continuous mode\n",
    "\n",
    "This is the first experiment with a high $R$. In theory $R=540$. However, because of some air bubbles $R$ is lower in reality. We can see in our model and our data that $D$ is slightly too high for this transfer rate.   \n",
    "Also this experiment failed after 34 hours which is visible in the bump in M2. \n",
    "The model tells us that $N$ is slightly lower if $R$ is high. That's because populations get diluted earlier.\n",
    "In contrast to the model, $N$ for M2 is higher compared to the same gradient with $R=2$."
   ]
  },
  {
   "cell_type": "code",
   "execution_count": null,
   "id": "b46a9507",
   "metadata": {},
   "outputs": [],
   "source": [
    "chain = Chain([28.0,38.0,43.0,33.0]) # Initializing chain for modelling\n",
    "chain.chain[0].N = 0.08 # Setting OD of first reactor\n",
    "for c in chain.chain[1:]:\n",
    "    c.N = 0 # Setting OD of downstream reactors to 0\n",
    "    \n",
    "chain.transfer_rate = 540 # Two transfers per hour\n",
    "#chain.dilution_rate = 0.31395 # This is the dilution rate I used for all experiments\n",
    "df,fig = plot_od_temp('c6',model=True,chain=chain)\n",
    "fig.show()"
   ]
  },
  {
   "cell_type": "markdown",
   "id": "22135c97",
   "metadata": {},
   "source": [
    "## Community composition\n",
    "\n",
    "I had to realize that this data is not really good. A big problem is that my community is always very uneven even though I mix the species with a culture of $OD=0.1$ each. I have to invest some time in the lab how to properly mix the community in order that the ratio is more even. Ideally I would manage to work from a frozen stock community which would make it even between experiments and save me a lot of time.  \n",
    "Furthermore, the different temperatures caused only small differences in community composition in the chained experiments. However, for $R=2$ it looks like the second reactor dictates downstream community compositions."
   ]
  },
  {
   "cell_type": "markdown",
   "id": "beff9990",
   "metadata": {},
   "source": [
    "### Isolated environments\n",
    "\n",
    "I will have to repeat this experiment. The community was already passaged which is why it is even more uneven than for the rest of the experiments. However, we can see that with increasing temperature _O. anthropi_ becomes the most abundant species."
   ]
  },
  {
   "cell_type": "code",
   "execution_count": null,
   "id": "4fa601c1",
   "metadata": {},
   "outputs": [],
   "source": [
    "from plotting import plot_composition,plot_species\n",
    "df,fig = plot_species('cfus_07_28_22')\n",
    "fig.show()\n",
    "df,fig = plot_composition('cfus_07_28_22')\n",
    "fig.show()"
   ]
  },
  {
   "cell_type": "markdown",
   "id": "11475094",
   "metadata": {},
   "source": [
    "### Control experiment\n",
    "\n",
    "With no temperature gradient we expect a very similar community composition for all reactors. However, we can see slight differences."
   ]
  },
  {
   "cell_type": "code",
   "execution_count": null,
   "id": "52b8e0f7",
   "metadata": {
    "scrolled": true
   },
   "outputs": [],
   "source": [
    "from plotting import plot_composition,plot_species,plot_total\n",
    "df,fig = plot_species('c1')\n",
    "fig.show()\n",
    "df,fig = plot_composition('c1')\n",
    "fig.show()"
   ]
  },
  {
   "cell_type": "markdown",
   "id": "f18ee882",
   "metadata": {},
   "source": [
    "### Gradient 28.0, 33.0, 38.0, 43.0 °C\n",
    "\n",
    "For the gradual increase we can see that _O. anthropi_ is slowly becoming more dominant, however the effect is small."
   ]
  },
  {
   "cell_type": "code",
   "execution_count": null,
   "id": "81d4962c",
   "metadata": {
    "scrolled": true
   },
   "outputs": [],
   "source": [
    "df,fig = plot_species('c2')\n",
    "fig.show()\n",
    "df,fig = plot_composition('c2')\n",
    "fig.show()"
   ]
  },
  {
   "cell_type": "markdown",
   "id": "7052150d",
   "metadata": {},
   "source": [
    "### Gradient 28.0, 43.0, 38.0, 33.0 °C"
   ]
  },
  {
   "cell_type": "code",
   "execution_count": null,
   "id": "29438182",
   "metadata": {},
   "outputs": [],
   "source": [
    "df,fig = plot_species('c3')\n",
    "fig.show()\n",
    "df,fig = plot_composition('c3')\n",
    "fig.show()"
   ]
  },
  {
   "cell_type": "markdown",
   "id": "98b81aca",
   "metadata": {},
   "source": [
    "### Gradient 28.0, 38.0, 43.0, 33.0 °C"
   ]
  },
  {
   "cell_type": "code",
   "execution_count": null,
   "id": "3ba67238",
   "metadata": {
    "scrolled": true
   },
   "outputs": [],
   "source": [
    "df,fig = plot_species('c7')\n",
    "fig.show()\n",
    "df,fig = plot_composition('c7')\n",
    "fig.show()"
   ]
  },
  {
   "cell_type": "markdown",
   "id": "35ba1716",
   "metadata": {},
   "source": [
    "### Gradient 28.0, 38.0, 43.0, 33.0 °C continuous\n",
    "\n",
    "It's interesting to see that the composition changes a lot when cultured continuously. Especially _A. tumefaciens_ is a lot less common. However the experiment failed after 35 hours and all reactors turned off. Therefore, all cultures grew at room temperature for 5 hours."
   ]
  },
  {
   "cell_type": "code",
   "execution_count": null,
   "id": "b15d7b02",
   "metadata": {
    "scrolled": false
   },
   "outputs": [],
   "source": [
    "df,fig = plot_species('c6')\n",
    "fig.show()\n",
    "df,fig = plot_composition('c6')\n",
    "fig.show()"
   ]
  }
 ],
 "metadata": {
  "kernelspec": {
   "display_name": "Python 3 (ipykernel)",
   "language": "python",
   "name": "python3"
  },
  "language_info": {
   "codemirror_mode": {
    "name": "ipython",
    "version": 3
   },
   "file_extension": ".py",
   "mimetype": "text/x-python",
   "name": "python",
   "nbconvert_exporter": "python",
   "pygments_lexer": "ipython3",
   "version": "3.9.7"
  },
  "vscode": {
   "interpreter": {
    "hash": "cf6e2b03ffcc14b2b0b1de8903ac7c58b1797d66778818601a0cc980743a7343"
   }
  }
 },
 "nbformat": 4,
 "nbformat_minor": 5
}
