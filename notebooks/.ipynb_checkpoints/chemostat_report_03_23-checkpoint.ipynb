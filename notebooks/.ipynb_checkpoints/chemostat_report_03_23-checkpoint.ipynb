{
 "cells": [
  {
   "cell_type": "code",
   "execution_count": null,
   "id": "4b3d9ea9",
   "metadata": {},
   "outputs": [],
   "source": [
    "from chemostat_report import *\n"
   ]
  },
  {
   "cell_type": "markdown",
   "id": "a146e3aa",
   "metadata": {},
   "source": [
    "# Chemostat experiments\n",
    "\n",
    "## Community experiments\n",
    "\n",
    "### Coummunit data for D=0.15\n",
    "\n",
    "<i>A. tumefaciens</i>, <i>C. testosteroni</i> and <i>O. anthropi</i> were grown in batch for 44 hours before switching the pump on set to a dilution rate of 0.15."
   ]
  },
  {
   "cell_type": "code",
   "execution_count": null,
   "id": "07494ae2",
   "metadata": {},
   "outputs": [],
   "source": [
    "fig = od_comm()\n",
    "fig.show()"
   ]
  },
  {
   "cell_type": "markdown",
   "id": "9ba4dd57",
   "metadata": {},
   "source": [
    "![](report_figures/community_abundance.png)"
   ]
  },
  {
   "cell_type": "markdown",
   "id": "40c1464a",
   "metadata": {},
   "source": [
    "### Citric acid at lower dilution rate (D=0.1)\n",
    "\n",
    "<i>C. testosteroni</i> and the community were gronw in batch for 44 hours. After that the cultures were diluted with a dilution rate of 0.15. This dilution rate appeared to be too high for <i>C. testosteroni</i> and at 68 hours the dilution rate was lowered to 0.1\n",
    "\n",
    "<img src=\"report_figures/citrate_0_1.png\" width=\"500\" align=\"left\"/>"
   ]
  },
  {
   "cell_type": "markdown",
   "id": "acbe518b",
   "metadata": {},
   "source": [
    "## Mono-cutlure experiments\n",
    "\n",
    "After activating the pump with a dilution rate set to 0.05, <i>O. anthropi</i> was flushed out of the chemostats. Thiamine with a final concentration of 1.8 $\\mu$M was added to the feed bottles of <i>O. anthropi</i>, resulting in the regrowth of <i>O. anthropi</i>.\n",
    "<img src=\"report_figures/mono.png\" width=\"800\" align=\"left\"/>"
   ]
  },
  {
   "cell_type": "markdown",
   "id": "0201c9a8",
   "metadata": {},
   "source": [
    "## Growth curves after growing the species in the chemostat\n",
    "\n",
    "After the chemostat experiments, I grew <i>C. testosteroni</i> and <i>O. anthropi</i> in the plate reader.\n",
    "<img src=\"report_figures/plate_reader.png\" width=\"500\" align=\"left\"/>"
   ]
  }
 ],
 "metadata": {
  "kernelspec": {
   "display_name": "Python 3 (ipykernel)",
   "language": "python",
   "name": "python3"
  },
  "language_info": {
   "codemirror_mode": {
    "name": "ipython",
    "version": 3
   },
   "file_extension": ".py",
   "mimetype": "text/x-python",
   "name": "python",
   "nbconvert_exporter": "python",
   "pygments_lexer": "ipython3",
   "version": "3.9.7"
  }
 },
 "nbformat": 4,
 "nbformat_minor": 5
}
