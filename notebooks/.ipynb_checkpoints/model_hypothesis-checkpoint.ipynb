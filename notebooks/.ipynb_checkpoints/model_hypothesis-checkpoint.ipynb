{
 "cells": [
  {
   "cell_type": "markdown",
   "id": "58c3680d",
   "metadata": {},
   "source": [
    "# Modelling\n",
    "\n",
    "Simple exponential model: \n",
    "$N(t) = N_0 * e^{kt}$\n",
    "\n",
    "$N$ : Population size\n",
    "$k$ : Growth constant\n",
    "$t$ : Time"
   ]
  },
  {
   "cell_type": "code",
   "execution_count": null,
   "id": "a4c97379",
   "metadata": {},
   "outputs": [],
   "source": [
    "from community_caller import *\n",
    "from os.path import join\n",
    "from os import symlink,remove\n",
    "from sympy import preview\n",
    "figures = join('/','home','eric','notes','talks','friday_seminar_2022_12_02','figures')\n",
    "equations = join('/','home','eric','notes','talks','friday_seminar_2022_12_02','equations')\n",
    "\n",
    "def write_f(fig,f):\n",
    "    fig.write_image(join(figures,f),scale=5)\n",
    "    try:\n",
    "        symlink(join(figures,f),join('friday_seminar',f))\n",
    "    except FileExistsError:\n",
    "        pass\n",
    "\n",
    "def write_e(expr,f):\n",
    "    preview(expr,viewer='file',filename=join(equations,f),dvioptions=['-D','600','-bg','Transparent'])\n",
    "    try:\n",
    "        symlink(join(equations,f),join('equations',f))\n",
    "    except FileExistsError:\n",
    "        pass"
   ]
  },
  {
   "cell_type": "code",
   "execution_count": null,
   "id": "010af6aa",
   "metadata": {},
   "outputs": [],
   "source": [
    "fig = plot_exp_chain()\n",
    "write_f(fig,'exp_chain.png')"
   ]
  },
  {
   "cell_type": "code",
   "execution_count": null,
   "id": "abe37af6",
   "metadata": {
    "scrolled": true
   },
   "outputs": [],
   "source": [
    "fig = plot_logistic_growth(50,0.28,1.5)\n",
    "write_f(fig,'logistic_growth.png')\n",
    "expr = '$\\\\frac{dN}{dt} = r_{max}(\\\\frac{K-N}{K})N$'\n",
    "write_e(expr,'logistic_model.png')\n",
    "r = '$r=r_{max}\\\\frac{K-N}{K}$'\n",
    "write_e(r,'r.png')\n",
    "exp_m = '$\\\\frac{dN}{dt} = rN$'\n",
    "write_e(exp_m,'exp_m.png')\n",
    "fig = log_community()\n",
    "write_f(fig,'community_fit.png')\n",
    "fig = plot_experiment_model()\n",
    "write_f(fig,'experiment_model.png')"
   ]
  },
  {
   "cell_type": "code",
   "execution_count": null,
   "id": "864503ee",
   "metadata": {},
   "outputs": [],
   "source": [
    "growth_rate = '$\\\\mu = \\\\frac{N_1 - N_0}{N_0}$'\n",
    "write_e(growth_rate,'growth_rate.png')\n",
    "dilution_rate = '$D_{Effective} = \\\\frac{N_1 - N_2}{N_2}$'\n",
    "write_e(dilution_rate,'dilution_rate.png')\n",
    "N2_N0 = '$N_2 = N_0$'\n",
    "write_e(N2_N0,'n2_n0.png')\n",
    "D_mu = '$D = \\\\frac{N_1 - N_0}{N_0} = \\\\mu$'\n",
    "write_e(D_mu,'d_equals_mu.png')\n",
    "dfactor = '$D = F - 1$'\n",
    "write_e(dfactor,'dfactor.png')\n",
    "steady_state = '$\\\\frac{dN}{dt} = \\\\mu N - D_{Effective}N$'\n",
    "write_e(steady_state,'steady_state.png')\n",
    "lim_growth_rate = '$r = \\\\frac{1}{N(t)}\\\\frac{dN}{dt}$'\n",
    "lim_spec_grwoth_rate = '$\\\\mu = e^r - 1 $'\n",
    "write_e(lim_spec_grwoth_rate,'lim_spec_growth_rate.png')\n",
    "write_e(lim_growth_rate,'lim_growht_rate.png')\n",
    "v_trans = '$V_{trans} = DV$'\n",
    "write_e(v_trans ,'v_trans.png')\n",
    "transfer = '$N = \\\\frac{N_{in}V_{trans} + NV}{V_{trans} + V}$'\n",
    "write_e(transfer,'dilution.png')\n",
    "netto = '$N_{netto} = N_1 - N_0$'\n",
    "write_e(netto,'netto.png')\n",
    "capacity = '$K = \\\\frac{K_{in}V_{trans} + V(K-N_{netto})}{V_{trans} + V}$'\n",
    "write_e(capacity,'capacity.png')\n",
    "flow_rate = '$D = \\\\frac{F}{V}$'\n",
    "write_e(flow_rate,'flow_rate.png')\n",
    "expr = '$D = D_{Effective}$'\n",
    "write_e(expr,'d_equals_deff.png')\n",
    "steady_state = '$\\\\mu = D_{Effective}$'\n",
    "write_e(steady_state,'steady_state.png')\n",
    "cr = '$\\\\frac{dN}{dt} = \\\\mu N - DN$'\n",
    "write_e(cr,'dndt.png')\n",
    "rr = '$\\\\frac{dN}{dt} = \\\\mu N - DN = 0$'\n",
    "write_e(rr,'resourceM.png')"
   ]
  },
  {
   "cell_type": "code",
   "execution_count": null,
   "id": "62d93b84",
   "metadata": {},
   "outputs": [],
   "source": [
    "fig = plot_chain(60,0.3,4)\n",
    "write_f(fig,'chemostat_increase.png')\n",
    "fig = plot_chain(6,0.323129812,1)\n",
    "fig = update_labels(fig, 'Time [h]', 'OD', None)\n",
    "fig.update_xaxes(title={'standoff':30})\n",
    "write_f(fig,'chemostat_decrease.png')\n"
   ]
  },
  {
   "cell_type": "code",
   "execution_count": null,
   "id": "d3d474d7",
   "metadata": {},
   "outputs": [],
   "source": [
    "figs = gradients()\n",
    "write_f(figs[0],'dilution_gradient.png')\n",
    "write_f(figs[1],'Ks_gradient.png')\n",
    "write_f(figs[2],'Ns_gradient.png')"
   ]
  },
  {
   "cell_type": "code",
   "execution_count": null,
   "id": "561199ac",
   "metadata": {
    "scrolled": true
   },
   "outputs": [],
   "source": [
    "fig = plot_chain(42,0.28,2)\n",
    "fig = update_labels(fig, 'Time [h]', 'OD', \"\",size=[150,350])\n",
    "fig.update_traces(line={'width':1})\n",
    "write_f(fig,'two_chemostats.png')\n",
    "fig = growth_rate_community(40)\n",
    "write_f(fig,'growth_rate_community.png')\n",
    "fig = plot_dilution(30,2)\n",
    "write_f(fig,'dilution_factor.png')"
   ]
  },
  {
   "cell_type": "code",
   "execution_count": null,
   "id": "a890057c",
   "metadata": {},
   "outputs": [],
   "source": [
    "fig = plot_capacity(60,4)\n",
    "write_f(fig,'carrying_capacity.png')"
   ]
  },
  {
   "cell_type": "code",
   "execution_count": null,
   "id": "44afc1ea",
   "metadata": {
    "scrolled": true
   },
   "outputs": [],
   "source": [
    "fig = plot_species_chain(60,None,1)\n",
    "write_f(fig,'species_growth_curve.png')"
   ]
  },
  {
   "cell_type": "code",
   "execution_count": null,
   "id": "d0db961a",
   "metadata": {},
   "outputs": [],
   "source": [
    "fig = growth_rate_species(60)\n",
    "write_f(fig,'growth_rates_species.png')"
   ]
  },
  {
   "cell_type": "code",
   "execution_count": null,
   "id": "20d50f7f",
   "metadata": {},
   "outputs": [],
   "source": [
    "fig = ms_extinct(60)\n",
    "write_f(fig,'ms_stable.png')"
   ]
  },
  {
   "cell_type": "code",
   "execution_count": null,
   "id": "01c37d0f",
   "metadata": {},
   "outputs": [],
   "source": [
    "fig = plot_species_rates()\n",
    "write_f(fig,'species_rates.png')\n",
    "fig = species_fit()\n",
    "write_f(fig,'species_fit.png')"
   ]
  },
  {
   "cell_type": "code",
   "execution_count": null,
   "id": "1ed23cf7",
   "metadata": {},
   "outputs": [],
   "source": [
    "fig = random_compositions(90,10)\n",
    "write_f(fig,'random_compositionn.png')\n",
    "fig.show()"
   ]
  },
  {
   "cell_type": "code",
   "execution_count": null,
   "id": "c70bb875",
   "metadata": {},
   "outputs": [],
   "source": [
    "fig = species_composition_D()\n",
    "write_f(fig,'species_composition_D.png')\n",
    "fig.show()"
   ]
  },
  {
   "cell_type": "code",
   "execution_count": null,
   "id": "35ec3c12",
   "metadata": {},
   "outputs": [],
   "source": [
    "fig = update_labels(fig, '$D\\space [h^{-1}]$', 'Community composition','Community compositions D 0.05 - 0.45', size=[300, 750])\n",
    "write_f(fig,'species_composition_D.png')\n",
    "fig.show()\n"
   ]
  }
 ],
 "metadata": {
  "kernelspec": {
   "display_name": "Python 3 (ipykernel)",
   "language": "python",
   "name": "python3"
  },
  "language_info": {
   "codemirror_mode": {
    "name": "ipython",
    "version": 3
   },
   "file_extension": ".py",
   "mimetype": "text/x-python",
   "name": "python",
   "nbconvert_exporter": "python",
   "pygments_lexer": "ipython3",
   "version": "3.9.7"
  }
 },
 "nbformat": 4,
 "nbformat_minor": 5
}
